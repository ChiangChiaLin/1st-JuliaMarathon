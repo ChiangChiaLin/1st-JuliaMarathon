{
 "cells": [
  {
   "cell_type": "markdown",
   "metadata": {},
   "source": [
    "# Julia 機器學習：GLM 線性迴歸\n",
    "\n",
    "## 作業 027：波士頓房價預測資料集\n",
    "\n",
    "請使用 GLM 中的模型，建立一個預測模型來預測波士頓的房價。"
   ]
  },
  {
   "cell_type": "code",
   "execution_count": 3,
   "metadata": {},
   "outputs": [],
   "source": [
    "using GLM, RDatasets, MLDataUtils"
   ]
  },
  {
   "cell_type": "markdown",
   "metadata": {},
   "source": [
    "## 讀取資料"
   ]
  },
  {
   "cell_type": "code",
   "execution_count": 4,
   "metadata": {},
   "outputs": [
    {
     "data": {
      "text/html": [
       "<table class=\"data-frame\"><thead><tr><th></th><th>Crim</th><th>Zn</th><th>Indus</th><th>Chas</th><th>NOx</th><th>Rm</th><th>Age</th><th>Dis</th><th>Rad</th><th>Tax</th></tr><tr><th></th><th>Float64</th><th>Float64</th><th>Float64</th><th>Int64</th><th>Float64</th><th>Float64</th><th>Float64</th><th>Float64</th><th>Int64</th><th>Int64</th></tr></thead><tbody><p>10 rows × 14 columns (omitted printing of 4 columns)</p><tr><th>1</th><td>0.00632</td><td>18.0</td><td>2.31</td><td>0</td><td>0.538</td><td>6.575</td><td>65.2</td><td>4.09</td><td>1</td><td>296</td></tr><tr><th>2</th><td>0.02731</td><td>0.0</td><td>7.07</td><td>0</td><td>0.469</td><td>6.421</td><td>78.9</td><td>4.9671</td><td>2</td><td>242</td></tr><tr><th>3</th><td>0.02729</td><td>0.0</td><td>7.07</td><td>0</td><td>0.469</td><td>7.185</td><td>61.1</td><td>4.9671</td><td>2</td><td>242</td></tr><tr><th>4</th><td>0.03237</td><td>0.0</td><td>2.18</td><td>0</td><td>0.458</td><td>6.998</td><td>45.8</td><td>6.0622</td><td>3</td><td>222</td></tr><tr><th>5</th><td>0.06905</td><td>0.0</td><td>2.18</td><td>0</td><td>0.458</td><td>7.147</td><td>54.2</td><td>6.0622</td><td>3</td><td>222</td></tr><tr><th>6</th><td>0.02985</td><td>0.0</td><td>2.18</td><td>0</td><td>0.458</td><td>6.43</td><td>58.7</td><td>6.0622</td><td>3</td><td>222</td></tr><tr><th>7</th><td>0.08829</td><td>12.5</td><td>7.87</td><td>0</td><td>0.524</td><td>6.012</td><td>66.6</td><td>5.5605</td><td>5</td><td>311</td></tr><tr><th>8</th><td>0.14455</td><td>12.5</td><td>7.87</td><td>0</td><td>0.524</td><td>6.172</td><td>96.1</td><td>5.9505</td><td>5</td><td>311</td></tr><tr><th>9</th><td>0.21124</td><td>12.5</td><td>7.87</td><td>0</td><td>0.524</td><td>5.631</td><td>100.0</td><td>6.0821</td><td>5</td><td>311</td></tr><tr><th>10</th><td>0.17004</td><td>12.5</td><td>7.87</td><td>0</td><td>0.524</td><td>6.004</td><td>85.9</td><td>6.5921</td><td>5</td><td>311</td></tr></tbody></table>"
      ],
      "text/latex": [
       "\\begin{tabular}{r|ccccccccccc}\n",
       "\t& Crim & Zn & Indus & Chas & NOx & Rm & Age & Dis & Rad & Tax & \\\\\n",
       "\t\\hline\n",
       "\t& Float64 & Float64 & Float64 & Int64 & Float64 & Float64 & Float64 & Float64 & Int64 & Int64 & \\\\\n",
       "\t\\hline\n",
       "\t1 & 0.00632 & 18.0 & 2.31 & 0 & 0.538 & 6.575 & 65.2 & 4.09 & 1 & 296 & $\\dots$ \\\\\n",
       "\t2 & 0.02731 & 0.0 & 7.07 & 0 & 0.469 & 6.421 & 78.9 & 4.9671 & 2 & 242 & $\\dots$ \\\\\n",
       "\t3 & 0.02729 & 0.0 & 7.07 & 0 & 0.469 & 7.185 & 61.1 & 4.9671 & 2 & 242 & $\\dots$ \\\\\n",
       "\t4 & 0.03237 & 0.0 & 2.18 & 0 & 0.458 & 6.998 & 45.8 & 6.0622 & 3 & 222 & $\\dots$ \\\\\n",
       "\t5 & 0.06905 & 0.0 & 2.18 & 0 & 0.458 & 7.147 & 54.2 & 6.0622 & 3 & 222 & $\\dots$ \\\\\n",
       "\t6 & 0.02985 & 0.0 & 2.18 & 0 & 0.458 & 6.43 & 58.7 & 6.0622 & 3 & 222 & $\\dots$ \\\\\n",
       "\t7 & 0.08829 & 12.5 & 7.87 & 0 & 0.524 & 6.012 & 66.6 & 5.5605 & 5 & 311 & $\\dots$ \\\\\n",
       "\t8 & 0.14455 & 12.5 & 7.87 & 0 & 0.524 & 6.172 & 96.1 & 5.9505 & 5 & 311 & $\\dots$ \\\\\n",
       "\t9 & 0.21124 & 12.5 & 7.87 & 0 & 0.524 & 5.631 & 100.0 & 6.0821 & 5 & 311 & $\\dots$ \\\\\n",
       "\t10 & 0.17004 & 12.5 & 7.87 & 0 & 0.524 & 6.004 & 85.9 & 6.5921 & 5 & 311 & $\\dots$ \\\\\n",
       "\\end{tabular}\n"
      ],
      "text/plain": [
       "10×14 DataFrame. Omitted printing of 7 columns\n",
       "│ Row │ Crim    │ Zn      │ Indus   │ Chas  │ NOx     │ Rm      │ Age     │\n",
       "│     │ \u001b[90mFloat64\u001b[39m │ \u001b[90mFloat64\u001b[39m │ \u001b[90mFloat64\u001b[39m │ \u001b[90mInt64\u001b[39m │ \u001b[90mFloat64\u001b[39m │ \u001b[90mFloat64\u001b[39m │ \u001b[90mFloat64\u001b[39m │\n",
       "├─────┼─────────┼─────────┼─────────┼───────┼─────────┼─────────┼─────────┤\n",
       "│ 1   │ 0.00632 │ 18.0    │ 2.31    │ 0     │ 0.538   │ 6.575   │ 65.2    │\n",
       "│ 2   │ 0.02731 │ 0.0     │ 7.07    │ 0     │ 0.469   │ 6.421   │ 78.9    │\n",
       "│ 3   │ 0.02729 │ 0.0     │ 7.07    │ 0     │ 0.469   │ 7.185   │ 61.1    │\n",
       "│ 4   │ 0.03237 │ 0.0     │ 2.18    │ 0     │ 0.458   │ 6.998   │ 45.8    │\n",
       "│ 5   │ 0.06905 │ 0.0     │ 2.18    │ 0     │ 0.458   │ 7.147   │ 54.2    │\n",
       "│ 6   │ 0.02985 │ 0.0     │ 2.18    │ 0     │ 0.458   │ 6.43    │ 58.7    │\n",
       "│ 7   │ 0.08829 │ 12.5    │ 7.87    │ 0     │ 0.524   │ 6.012   │ 66.6    │\n",
       "│ 8   │ 0.14455 │ 12.5    │ 7.87    │ 0     │ 0.524   │ 6.172   │ 96.1    │\n",
       "│ 9   │ 0.21124 │ 12.5    │ 7.87    │ 0     │ 0.524   │ 5.631   │ 100.0   │\n",
       "│ 10  │ 0.17004 │ 12.5    │ 7.87    │ 0     │ 0.524   │ 6.004   │ 85.9    │"
      ]
     },
     "execution_count": 4,
     "metadata": {},
     "output_type": "execute_result"
    }
   ],
   "source": [
    "boston = dataset(\"MASS\", \"Boston\")\n",
    "first(boston, 10)"
   ]
  },
  {
   "cell_type": "code",
   "execution_count": 8,
   "metadata": {},
   "outputs": [],
   "source": [
    "# show(boston[1:5,:], allcols = true)"
   ]
  },
  {
   "cell_type": "code",
   "execution_count": 6,
   "metadata": {},
   "outputs": [
    {
     "data": {
      "text/plain": [
       "506-element Array{Float64,1}:\n",
       " 3.1780538303479458\n",
       " 3.0726933146901194\n",
       " 3.5467396869528134\n",
       " 3.5085558999826545\n",
       " 3.5890591188317256\n",
       " 3.3568971227655755\n",
       " 3.131136910560194 \n",
       " 3.299533727885655 \n",
       " 2.803360380906535 \n",
       " 2.9391619220655967\n",
       " 2.70805020110221  \n",
       " 2.9391619220655967\n",
       " 3.077312260546414 \n",
       " ⋮                 \n",
       " 3.1986731175506815\n",
       " 3.139832617527748 \n",
       " 2.9806186357439426\n",
       " 2.9069010598473755\n",
       " 3.054001181677967 \n",
       " 2.8622008809294686\n",
       " 2.8213788864092133\n",
       " 3.109060958860994 \n",
       " 3.0252910757955354\n",
       " 3.173878458937465 \n",
       " 3.091042453358316 \n",
       " 2.4765384001174837"
      ]
     },
     "execution_count": 6,
     "metadata": {},
     "output_type": "execute_result"
    }
   ],
   "source": [
    "boston[!, :LogMedV] = log.(boston[!, :MedV])"
   ]
  },
  {
   "cell_type": "code",
   "execution_count": 10,
   "metadata": {},
   "outputs": [],
   "source": [
    "# show(boston[1:5,:], allcols = true)"
   ]
  },
  {
   "cell_type": "code",
   "execution_count": 11,
   "metadata": {},
   "outputs": [],
   "source": [
    "indecies = MLDataUtils.shuffleobs(collect(1:nrow(boston)))\n",
    "train_ind, test_ind = MLDataUtils.splitobs(indecies, at = 0.8);"
   ]
  },
  {
   "cell_type": "code",
   "execution_count": 12,
   "metadata": {},
   "outputs": [
    {
     "data": {
      "text/html": [
       "<table class=\"data-frame\"><thead><tr><th></th><th>Crim</th><th>Zn</th><th>Indus</th><th>Chas</th><th>NOx</th><th>Rm</th><th>Age</th><th>Dis</th><th>Rad</th><th>Tax</th></tr><tr><th></th><th>Float64</th><th>Float64</th><th>Float64</th><th>Int64</th><th>Float64</th><th>Float64</th><th>Float64</th><th>Float64</th><th>Int64</th><th>Int64</th></tr></thead><tbody><p>101 rows × 15 columns (omitted printing of 5 columns)</p><tr><th>1</th><td>0.07896</td><td>0.0</td><td>12.83</td><td>0</td><td>0.437</td><td>6.273</td><td>6.0</td><td>4.2515</td><td>5</td><td>398</td></tr><tr><th>2</th><td>3.32105</td><td>0.0</td><td>19.58</td><td>1</td><td>0.871</td><td>5.403</td><td>100.0</td><td>1.3216</td><td>5</td><td>403</td></tr><tr><th>3</th><td>0.2909</td><td>0.0</td><td>21.89</td><td>0</td><td>0.624</td><td>6.174</td><td>93.6</td><td>1.6119</td><td>4</td><td>437</td></tr><tr><th>4</th><td>0.01965</td><td>80.0</td><td>1.76</td><td>0</td><td>0.385</td><td>6.23</td><td>31.5</td><td>9.0892</td><td>1</td><td>241</td></tr><tr><th>5</th><td>0.84054</td><td>0.0</td><td>8.14</td><td>0</td><td>0.538</td><td>5.599</td><td>85.7</td><td>4.4546</td><td>4</td><td>307</td></tr><tr><th>6</th><td>0.03584</td><td>80.0</td><td>3.37</td><td>0</td><td>0.398</td><td>6.29</td><td>17.8</td><td>6.6115</td><td>4</td><td>337</td></tr><tr><th>7</th><td>0.07503</td><td>33.0</td><td>2.18</td><td>0</td><td>0.472</td><td>7.42</td><td>71.9</td><td>3.0992</td><td>7</td><td>222</td></tr><tr><th>8</th><td>0.95577</td><td>0.0</td><td>8.14</td><td>0</td><td>0.538</td><td>6.047</td><td>88.8</td><td>4.4534</td><td>4</td><td>307</td></tr><tr><th>9</th><td>0.35114</td><td>0.0</td><td>7.38</td><td>0</td><td>0.493</td><td>6.041</td><td>49.9</td><td>4.7211</td><td>5</td><td>287</td></tr><tr><th>10</th><td>0.19539</td><td>0.0</td><td>10.81</td><td>0</td><td>0.413</td><td>6.245</td><td>6.2</td><td>5.2873</td><td>4</td><td>305</td></tr><tr><th>11</th><td>6.80117</td><td>0.0</td><td>18.1</td><td>0</td><td>0.713</td><td>6.081</td><td>84.4</td><td>2.7175</td><td>24</td><td>666</td></tr><tr><th>12</th><td>0.88125</td><td>0.0</td><td>21.89</td><td>0</td><td>0.624</td><td>5.637</td><td>94.7</td><td>1.9799</td><td>4</td><td>437</td></tr><tr><th>13</th><td>1.15172</td><td>0.0</td><td>8.14</td><td>0</td><td>0.538</td><td>5.701</td><td>95.0</td><td>3.7872</td><td>4</td><td>307</td></tr><tr><th>14</th><td>0.10659</td><td>80.0</td><td>1.91</td><td>0</td><td>0.413</td><td>5.936</td><td>19.5</td><td>10.5857</td><td>4</td><td>334</td></tr><tr><th>15</th><td>1.12658</td><td>0.0</td><td>19.58</td><td>1</td><td>0.871</td><td>5.012</td><td>88.0</td><td>1.6102</td><td>5</td><td>403</td></tr><tr><th>16</th><td>13.0751</td><td>0.0</td><td>18.1</td><td>0</td><td>0.58</td><td>5.713</td><td>56.7</td><td>2.8237</td><td>24</td><td>666</td></tr><tr><th>17</th><td>41.5292</td><td>0.0</td><td>18.1</td><td>0</td><td>0.693</td><td>5.531</td><td>85.4</td><td>1.6074</td><td>24</td><td>666</td></tr><tr><th>18</th><td>0.3494</td><td>0.0</td><td>9.9</td><td>0</td><td>0.544</td><td>5.972</td><td>76.7</td><td>3.1025</td><td>4</td><td>304</td></tr><tr><th>19</th><td>0.05497</td><td>0.0</td><td>5.19</td><td>0</td><td>0.515</td><td>5.985</td><td>45.4</td><td>4.8122</td><td>5</td><td>224</td></tr><tr><th>20</th><td>0.01538</td><td>90.0</td><td>3.75</td><td>0</td><td>0.394</td><td>7.454</td><td>34.2</td><td>6.3361</td><td>3</td><td>244</td></tr><tr><th>21</th><td>2.3004</td><td>0.0</td><td>19.58</td><td>0</td><td>0.605</td><td>6.319</td><td>96.1</td><td>2.1</td><td>5</td><td>403</td></tr><tr><th>22</th><td>0.25915</td><td>0.0</td><td>21.89</td><td>0</td><td>0.624</td><td>5.693</td><td>96.0</td><td>1.7883</td><td>4</td><td>437</td></tr><tr><th>23</th><td>0.05479</td><td>33.0</td><td>2.18</td><td>0</td><td>0.472</td><td>6.616</td><td>58.1</td><td>3.37</td><td>7</td><td>222</td></tr><tr><th>24</th><td>0.25199</td><td>0.0</td><td>10.59</td><td>0</td><td>0.489</td><td>5.783</td><td>72.7</td><td>4.3549</td><td>4</td><td>277</td></tr><tr><th>25</th><td>0.17171</td><td>25.0</td><td>5.13</td><td>0</td><td>0.453</td><td>5.966</td><td>93.4</td><td>6.8185</td><td>8</td><td>284</td></tr><tr><th>26</th><td>14.4208</td><td>0.0</td><td>18.1</td><td>0</td><td>0.74</td><td>6.461</td><td>93.3</td><td>2.0026</td><td>24</td><td>666</td></tr><tr><th>27</th><td>0.0795</td><td>60.0</td><td>1.69</td><td>0</td><td>0.411</td><td>6.579</td><td>35.9</td><td>10.7103</td><td>4</td><td>411</td></tr><tr><th>28</th><td>9.2323</td><td>0.0</td><td>18.1</td><td>0</td><td>0.631</td><td>6.216</td><td>100.0</td><td>1.1691</td><td>24</td><td>666</td></tr><tr><th>29</th><td>11.1081</td><td>0.0</td><td>18.1</td><td>0</td><td>0.668</td><td>4.906</td><td>100.0</td><td>1.1742</td><td>24</td><td>666</td></tr><tr><th>30</th><td>0.04011</td><td>80.0</td><td>1.52</td><td>0</td><td>0.404</td><td>7.287</td><td>34.1</td><td>7.309</td><td>2</td><td>329</td></tr><tr><th>&vellip;</th><td>&vellip;</td><td>&vellip;</td><td>&vellip;</td><td>&vellip;</td><td>&vellip;</td><td>&vellip;</td><td>&vellip;</td><td>&vellip;</td><td>&vellip;</td><td>&vellip;</td></tr></tbody></table>"
      ],
      "text/latex": [
       "\\begin{tabular}{r|ccccccccccc}\n",
       "\t& Crim & Zn & Indus & Chas & NOx & Rm & Age & Dis & Rad & Tax & \\\\\n",
       "\t\\hline\n",
       "\t& Float64 & Float64 & Float64 & Int64 & Float64 & Float64 & Float64 & Float64 & Int64 & Int64 & \\\\\n",
       "\t\\hline\n",
       "\t1 & 0.07896 & 0.0 & 12.83 & 0 & 0.437 & 6.273 & 6.0 & 4.2515 & 5 & 398 & $\\dots$ \\\\\n",
       "\t2 & 3.32105 & 0.0 & 19.58 & 1 & 0.871 & 5.403 & 100.0 & 1.3216 & 5 & 403 & $\\dots$ \\\\\n",
       "\t3 & 0.2909 & 0.0 & 21.89 & 0 & 0.624 & 6.174 & 93.6 & 1.6119 & 4 & 437 & $\\dots$ \\\\\n",
       "\t4 & 0.01965 & 80.0 & 1.76 & 0 & 0.385 & 6.23 & 31.5 & 9.0892 & 1 & 241 & $\\dots$ \\\\\n",
       "\t5 & 0.84054 & 0.0 & 8.14 & 0 & 0.538 & 5.599 & 85.7 & 4.4546 & 4 & 307 & $\\dots$ \\\\\n",
       "\t6 & 0.03584 & 80.0 & 3.37 & 0 & 0.398 & 6.29 & 17.8 & 6.6115 & 4 & 337 & $\\dots$ \\\\\n",
       "\t7 & 0.07503 & 33.0 & 2.18 & 0 & 0.472 & 7.42 & 71.9 & 3.0992 & 7 & 222 & $\\dots$ \\\\\n",
       "\t8 & 0.95577 & 0.0 & 8.14 & 0 & 0.538 & 6.047 & 88.8 & 4.4534 & 4 & 307 & $\\dots$ \\\\\n",
       "\t9 & 0.35114 & 0.0 & 7.38 & 0 & 0.493 & 6.041 & 49.9 & 4.7211 & 5 & 287 & $\\dots$ \\\\\n",
       "\t10 & 0.19539 & 0.0 & 10.81 & 0 & 0.413 & 6.245 & 6.2 & 5.2873 & 4 & 305 & $\\dots$ \\\\\n",
       "\t11 & 6.80117 & 0.0 & 18.1 & 0 & 0.713 & 6.081 & 84.4 & 2.7175 & 24 & 666 & $\\dots$ \\\\\n",
       "\t12 & 0.88125 & 0.0 & 21.89 & 0 & 0.624 & 5.637 & 94.7 & 1.9799 & 4 & 437 & $\\dots$ \\\\\n",
       "\t13 & 1.15172 & 0.0 & 8.14 & 0 & 0.538 & 5.701 & 95.0 & 3.7872 & 4 & 307 & $\\dots$ \\\\\n",
       "\t14 & 0.10659 & 80.0 & 1.91 & 0 & 0.413 & 5.936 & 19.5 & 10.5857 & 4 & 334 & $\\dots$ \\\\\n",
       "\t15 & 1.12658 & 0.0 & 19.58 & 1 & 0.871 & 5.012 & 88.0 & 1.6102 & 5 & 403 & $\\dots$ \\\\\n",
       "\t16 & 13.0751 & 0.0 & 18.1 & 0 & 0.58 & 5.713 & 56.7 & 2.8237 & 24 & 666 & $\\dots$ \\\\\n",
       "\t17 & 41.5292 & 0.0 & 18.1 & 0 & 0.693 & 5.531 & 85.4 & 1.6074 & 24 & 666 & $\\dots$ \\\\\n",
       "\t18 & 0.3494 & 0.0 & 9.9 & 0 & 0.544 & 5.972 & 76.7 & 3.1025 & 4 & 304 & $\\dots$ \\\\\n",
       "\t19 & 0.05497 & 0.0 & 5.19 & 0 & 0.515 & 5.985 & 45.4 & 4.8122 & 5 & 224 & $\\dots$ \\\\\n",
       "\t20 & 0.01538 & 90.0 & 3.75 & 0 & 0.394 & 7.454 & 34.2 & 6.3361 & 3 & 244 & $\\dots$ \\\\\n",
       "\t21 & 2.3004 & 0.0 & 19.58 & 0 & 0.605 & 6.319 & 96.1 & 2.1 & 5 & 403 & $\\dots$ \\\\\n",
       "\t22 & 0.25915 & 0.0 & 21.89 & 0 & 0.624 & 5.693 & 96.0 & 1.7883 & 4 & 437 & $\\dots$ \\\\\n",
       "\t23 & 0.05479 & 33.0 & 2.18 & 0 & 0.472 & 6.616 & 58.1 & 3.37 & 7 & 222 & $\\dots$ \\\\\n",
       "\t24 & 0.25199 & 0.0 & 10.59 & 0 & 0.489 & 5.783 & 72.7 & 4.3549 & 4 & 277 & $\\dots$ \\\\\n",
       "\t25 & 0.17171 & 25.0 & 5.13 & 0 & 0.453 & 5.966 & 93.4 & 6.8185 & 8 & 284 & $\\dots$ \\\\\n",
       "\t26 & 14.4208 & 0.0 & 18.1 & 0 & 0.74 & 6.461 & 93.3 & 2.0026 & 24 & 666 & $\\dots$ \\\\\n",
       "\t27 & 0.0795 & 60.0 & 1.69 & 0 & 0.411 & 6.579 & 35.9 & 10.7103 & 4 & 411 & $\\dots$ \\\\\n",
       "\t28 & 9.2323 & 0.0 & 18.1 & 0 & 0.631 & 6.216 & 100.0 & 1.1691 & 24 & 666 & $\\dots$ \\\\\n",
       "\t29 & 11.1081 & 0.0 & 18.1 & 0 & 0.668 & 4.906 & 100.0 & 1.1742 & 24 & 666 & $\\dots$ \\\\\n",
       "\t30 & 0.04011 & 80.0 & 1.52 & 0 & 0.404 & 7.287 & 34.1 & 7.309 & 2 & 329 & $\\dots$ \\\\\n",
       "\t$\\dots$ & $\\dots$ & $\\dots$ & $\\dots$ & $\\dots$ & $\\dots$ & $\\dots$ & $\\dots$ & $\\dots$ & $\\dots$ & $\\dots$ &  \\\\\n",
       "\\end{tabular}\n"
      ],
      "text/plain": [
       "101×15 DataFrame. Omitted printing of 8 columns\n",
       "│ Row │ Crim    │ Zn      │ Indus   │ Chas  │ NOx     │ Rm      │ Age     │\n",
       "│     │ \u001b[90mFloat64\u001b[39m │ \u001b[90mFloat64\u001b[39m │ \u001b[90mFloat64\u001b[39m │ \u001b[90mInt64\u001b[39m │ \u001b[90mFloat64\u001b[39m │ \u001b[90mFloat64\u001b[39m │ \u001b[90mFloat64\u001b[39m │\n",
       "├─────┼─────────┼─────────┼─────────┼───────┼─────────┼─────────┼─────────┤\n",
       "│ 1   │ 0.07896 │ 0.0     │ 12.83   │ 0     │ 0.437   │ 6.273   │ 6.0     │\n",
       "│ 2   │ 3.32105 │ 0.0     │ 19.58   │ 1     │ 0.871   │ 5.403   │ 100.0   │\n",
       "│ 3   │ 0.2909  │ 0.0     │ 21.89   │ 0     │ 0.624   │ 6.174   │ 93.6    │\n",
       "│ 4   │ 0.01965 │ 80.0    │ 1.76    │ 0     │ 0.385   │ 6.23    │ 31.5    │\n",
       "│ 5   │ 0.84054 │ 0.0     │ 8.14    │ 0     │ 0.538   │ 5.599   │ 85.7    │\n",
       "│ 6   │ 0.03584 │ 80.0    │ 3.37    │ 0     │ 0.398   │ 6.29    │ 17.8    │\n",
       "│ 7   │ 0.07503 │ 33.0    │ 2.18    │ 0     │ 0.472   │ 7.42    │ 71.9    │\n",
       "│ 8   │ 0.95577 │ 0.0     │ 8.14    │ 0     │ 0.538   │ 6.047   │ 88.8    │\n",
       "│ 9   │ 0.35114 │ 0.0     │ 7.38    │ 0     │ 0.493   │ 6.041   │ 49.9    │\n",
       "│ 10  │ 0.19539 │ 0.0     │ 10.81   │ 0     │ 0.413   │ 6.245   │ 6.2     │\n",
       "⋮\n",
       "│ 91  │ 1.25179 │ 0.0     │ 8.14    │ 0     │ 0.538   │ 5.57    │ 98.1    │\n",
       "│ 92  │ 0.06888 │ 0.0     │ 2.46    │ 0     │ 0.488   │ 6.144   │ 62.2    │\n",
       "│ 93  │ 0.29819 │ 0.0     │ 6.2     │ 0     │ 0.504   │ 7.686   │ 17.0    │\n",
       "│ 94  │ 0.22969 │ 0.0     │ 10.59   │ 0     │ 0.489   │ 6.326   │ 52.5    │\n",
       "│ 95  │ 0.03041 │ 0.0     │ 5.19    │ 0     │ 0.515   │ 5.895   │ 59.6    │\n",
       "│ 96  │ 0.30347 │ 0.0     │ 7.38    │ 0     │ 0.493   │ 6.312   │ 28.9    │\n",
       "│ 97  │ 0.09378 │ 12.5    │ 7.87    │ 0     │ 0.524   │ 5.889   │ 39.0    │\n",
       "│ 98  │ 0.11132 │ 0.0     │ 27.74   │ 0     │ 0.609   │ 5.983   │ 83.5    │\n",
       "│ 99  │ 0.15936 │ 0.0     │ 6.91    │ 0     │ 0.448   │ 6.211   │ 6.5     │\n",
       "│ 100 │ 0.01096 │ 55.0    │ 2.25    │ 0     │ 0.389   │ 6.453   │ 31.9    │\n",
       "│ 101 │ 0.55778 │ 0.0     │ 21.89   │ 0     │ 0.624   │ 6.335   │ 98.2    │"
      ]
     },
     "execution_count": 12,
     "metadata": {},
     "output_type": "execute_result"
    }
   ],
   "source": [
    "train = boston[train_ind, :]\n",
    "test = boston[test_ind, :]"
   ]
  },
  {
   "cell_type": "code",
   "execution_count": 13,
   "metadata": {},
   "outputs": [
    {
     "data": {
      "text/plain": [
       "StatsModels.TableRegressionModel{LinearModel{GLM.LmResp{Array{Float64,1}},GLM.DensePredChol{Float64,LinearAlgebra.Cholesky{Float64,Array{Float64,2}}}},Array{Float64,2}}\n",
       "\n",
       "LogMedV ~ 1 + Crim + Chas + NOx + Rm + Dis + Rad + Tax + PTRatio + Black + LStat\n",
       "\n",
       "Coefficients:\n",
       "───────────────────────────────────────────────────────────────────────────────────────\n",
       "                 Estimate   Std. Error    t value  Pr(>|t|)     Lower 95%     Upper 95%\n",
       "───────────────────────────────────────────────────────────────────────────────────────\n",
       "(Intercept)   4.21939      0.229572      18.3794     <1e-54   3.76805       4.67073    \n",
       "Crim         -0.0100344    0.0013895     -7.22161    <1e-11  -0.0127662    -0.00730265 \n",
       "Chas          0.119813     0.0380644      3.14763    0.0018   0.0449778     0.194647   \n",
       "NOx          -0.752386     0.157013      -4.79187    <1e-5   -1.06107      -0.443698   \n",
       "Rm            0.0876821    0.0178134      4.92226    <1e-5    0.0526609     0.122703   \n",
       "Dis          -0.0449272    0.0072691     -6.18057    <1e-8   -0.0592183    -0.0306361  \n",
       "Rad           0.0109288    0.00298613     3.65987    0.0003   0.0050581     0.0167996  \n",
       "Tax          -0.000470427  0.000157338   -2.98992    0.0030  -0.000779753  -0.0001611  \n",
       "PTRatio      -0.0419984    0.00555471    -7.56086    <1e-12  -0.052919     -0.0310778  \n",
       "Black         0.000296855  0.000120779    2.45784    0.0144   5.94033e-5    0.000534306\n",
       "LStat        -0.0285628    0.00211671   -13.494      <1e-33  -0.0327242    -0.0244013  \n",
       "───────────────────────────────────────────────────────────────────────────────────────"
      ]
     },
     "execution_count": 13,
     "metadata": {},
     "output_type": "execute_result"
    }
   ],
   "source": [
    "model = lm(@formula(LogMedV ~ Crim + Chas + NOx + Rm + Dis + Rad + Tax + PTRatio + Black + LStat), train)"
   ]
  },
  {
   "cell_type": "code",
   "execution_count": 14,
   "metadata": {},
   "outputs": [
    {
     "data": {
      "text/plain": [
       "101-element Array{Float64,1}:\n",
       " 25.905363847538503\n",
       " 14.35896559575894 \n",
       " 13.31396407911647 \n",
       " 18.77838101987758 \n",
       " 15.375883436216997\n",
       " 29.006110764037523\n",
       " 33.35445773393023 \n",
       " 15.640517967492254\n",
       " 23.49702972730354 \n",
       " 24.709631700107984\n",
       " 16.850288972277315\n",
       " 14.704075605500936\n",
       " 15.37097744847433 \n",
       "  ⋮                \n",
       " 26.26249117074879 \n",
       " 14.133266535120315\n",
       " 27.54617373062696 \n",
       " 35.58142856783047 \n",
       " 23.203774000351373\n",
       " 20.3423668330409  \n",
       " 24.389948372327137\n",
       " 20.75593103098396 \n",
       " 16.30486145188383 \n",
       " 25.643451378903663\n",
       " 26.402188845261904\n",
       " 16.207122383059193"
      ]
     },
     "execution_count": 14,
     "metadata": {},
     "output_type": "execute_result"
    }
   ],
   "source": [
    "exp.(predict(model, test))"
   ]
  },
  {
   "cell_type": "code",
   "execution_count": 15,
   "metadata": {},
   "outputs": [
    {
     "data": {
      "text/plain": [
       "0.78575035754947"
      ]
     },
     "execution_count": 15,
     "metadata": {},
     "output_type": "execute_result"
    }
   ],
   "source": [
    "r2(model)"
   ]
  },
  {
   "cell_type": "code",
   "execution_count": 16,
   "metadata": {},
   "outputs": [
    {
     "data": {
      "text/plain": [
       "0.7803125493654464"
      ]
     },
     "execution_count": 16,
     "metadata": {},
     "output_type": "execute_result"
    }
   ],
   "source": [
    "adjr2(model)"
   ]
  },
  {
   "cell_type": "code",
   "execution_count": null,
   "metadata": {},
   "outputs": [],
   "source": []
  }
 ],
 "metadata": {
  "kernelspec": {
   "display_name": "Julia 1.2.0",
   "language": "julia",
   "name": "julia-1.2"
  },
  "language_info": {
   "file_extension": ".jl",
   "mimetype": "application/julia",
   "name": "julia",
   "version": "1.2.0"
  }
 },
 "nbformat": 4,
 "nbformat_minor": 4
}
