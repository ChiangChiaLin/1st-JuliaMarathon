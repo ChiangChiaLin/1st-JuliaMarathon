{
 "cells": [
  {
   "cell_type": "markdown",
   "metadata": {},
   "source": [
    "# Julia 基礎圖表繪製：Gadfly 一維資料圖表\n",
    "\n",
    "## 作業 021"
   ]
  },
  {
   "cell_type": "markdown",
   "metadata": {},
   "source": [
    "1. 比較看看盒狀圖與 violin plot 在同樣的資料上分別展現資料的什麼特性。"
   ]
  },
  {
   "cell_type": "markdown",
   "metadata": {},
   "source": [
    "2. 同樣的資料可以以條狀圖或是線圖繪製，思考兩者在表現資料上的特點。"
   ]
  },
  {
   "cell_type": "markdown",
   "metadata": {},
   "source": [
    "## 答案一\n",
    "\n",
    "盒狀圖展現資料最大、最小、中位數及上下四分位數的分布:\n",
    "\n",
    "![](boxplot.png)\n",
    "\n",
    "violin plot展現資料分布的密度:\n",
    "\n",
    "![](violin.png)"
   ]
  },
  {
   "cell_type": "markdown",
   "metadata": {},
   "source": [
    "## 答案二\n",
    "\n",
    "+需要展示資料出現頻率時，適合用條狀圖。\n",
    "\n",
    "![](chest_bar.png)   ![](chest_line.png)\n",
    "\n",
    "+需要展示資料發展趨勢時，適合用現狀圖。\n",
    "\n",
    "![](employed_line.png)   ![](employed_bar.png)"
   ]
  },
  {
   "cell_type": "code",
   "execution_count": null,
   "metadata": {},
   "outputs": [],
   "source": []
  }
 ],
 "metadata": {
  "kernelspec": {
   "display_name": "Julia 1.2.0",
   "language": "julia",
   "name": "julia-1.2"
  },
  "language_info": {
   "file_extension": ".jl",
   "mimetype": "application/julia",
   "name": "julia",
   "version": "1.2.0"
  }
 },
 "nbformat": 4,
 "nbformat_minor": 4
}
